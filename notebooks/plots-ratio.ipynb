{
 "cells": [
  {
   "cell_type": "markdown",
   "metadata": {},
   "source": [
    "## Imports"
   ]
  },
  {
   "cell_type": "code",
   "execution_count": 1,
   "metadata": {},
   "outputs": [],
   "source": [
    "import os\n",
    "import matplotlib.pyplot as plt\n",
    "import pandas as pd\n",
    "import json\n",
    "import numpy as np\n",
    "from scipy.optimize import curve_fit\n",
    "from random import randrange\n",
    "from itertools import count"
   ]
  },
  {
   "cell_type": "markdown",
   "metadata": {},
   "source": [
    "# Experiment Loading Functions"
   ]
  },
  {
   "cell_type": "code",
   "execution_count": 2,
   "metadata": {},
   "outputs": [],
   "source": [
    "def load_jsons(jsons_path, json_files):\n",
    "    jsons = {}\n",
    "    \n",
    "    for subdir, dirs, files in os.walk(jsons_path):\n",
    "        for file in files:\n",
    "            for json_file in json_files:\n",
    "                if file == json_file + \".json\":\n",
    "                    with open(os.path.join(subdir, file), 'r') as f:\n",
    "                        assert json_file not in jsons, jsons_path + json_file\n",
    "                        jsons[json_file] = json.load(f)\n",
    "                        \n",
    "    return jsons"
   ]
  },
  {
   "cell_type": "code",
   "execution_count": 3,
   "metadata": {},
   "outputs": [],
   "source": [
    "def flatten_dictionary(dictionary):\n",
    "    return pd.io.json.json_normalize(dictionary).to_dict(orient='records')[0]"
   ]
  },
  {
   "cell_type": "code",
   "execution_count": 4,
   "metadata": {},
   "outputs": [],
   "source": [
    "def load_experiment(experiment_path, attack_folder_include, verbose):\n",
    "    if verbose:\n",
    "        print(experiment_path)\n",
    "    experiment = {}\n",
    "    \n",
    "    target_jsons = [\"metrics_train\", \"metrics_test\", \"training\", \"parameters\"]\n",
    "    attack_jsons = [\"attack_parameters\", \"combined_metrics\"]\n",
    "    \n",
    "    target_folders = [ f.name for f in os.scandir(experiment_path) if f.is_dir() and f.name.startswith('target')]\n",
    "    attack_folders = [ f.name for f in os.scandir(experiment_path) if f.is_dir() and f.name.startswith(attack_folder_include or \"attack\")]\n",
    "    \n",
    "    if len(attack_folders) == 0:\n",
    "        print(f\"Attention: 0 attack_folders found for {attack_folder_include} in {experiment_path}\")\n",
    "        attack_folders = [ f.name for f in os.scandir(experiment_path) if f.is_dir() and f.name.startswith(\"attack\")]\n",
    "    \n",
    "    target_folders.sort()\n",
    "    attack_folders.sort()\n",
    "    \n",
    "    if verbose:\n",
    "        print(target_folders)\n",
    "        print(attack_folders)\n",
    "    \n",
    "    for idx in range(len(target_folders)):\n",
    "        experiment[idx] = {}\n",
    "        experiment[idx]['target'] = load_jsons(os.path.join(experiment_path, target_folders[idx]), target_jsons)\n",
    "        \n",
    "        test_metrics = flatten_dictionary(experiment[idx]['target']['metrics_test'])\n",
    "        train_metrics = flatten_dictionary(experiment[idx]['target']['metrics_train'])\n",
    "        test_metrics = pd.DataFrame.from_dict(test_metrics, orient='index')\n",
    "        train_metrics = pd.DataFrame.from_dict(train_metrics, orient='index')\n",
    "        gap_metrics = train_metrics - test_metrics\n",
    "        \n",
    "        experiment[idx]['target']['gap_metrics'] = gap_metrics.to_dict()[0]\n",
    "        \n",
    "        experiment[idx] = flatten_dictionary(experiment[idx])\n",
    "\n",
    "        experiment[idx]['target.gap_metrics.loss_gap'] = \\\n",
    "            experiment[idx]['target.metrics_test.loss'] / experiment[idx]['target.metrics_train.loss']\n",
    "    \n",
    "    for idx in range(len(attack_folders)):\n",
    "        if verbose:\n",
    "            print(attack_folders[idx])\n",
    "        experiment[idx + len(target_folders)] = {}\n",
    "        experiment[idx + len(target_folders)]['attacker'] = (load_jsons(os.path.join(experiment_path, attack_folders[idx]), attack_jsons))\n",
    "        experiment[idx + len(target_folders)] = flatten_dictionary(experiment[idx + len(target_folders)])\n",
    "        \n",
    "    experiment_df = pd.DataFrame.from_dict(experiment, orient='index')\n",
    "    \n",
    "    parameters = [parameter for parameter in list(experiment_df.columns) \n",
    "              if \"parameter\" in parameter \n",
    "                  and not \"seed\" in parameter \n",
    "                  and not \"path\" in parameter\n",
    "                  and not \"save_model_freq\" in parameter\n",
    "                  and not \"target_model_stacking\" in parameter\n",
    "                  and not \"experiment_name\" in parameter]\n",
    "    for parameter in parameters:\n",
    "        try:\n",
    "            assert len(experiment_df[parameter].unique()) <= 2, parameter + \" is not always the same!\"\n",
    "        except TypeError:\n",
    "            pass\n",
    "\n",
    "    # Check if right number of experiments is there\n",
    "    if len(target_folders) != 1:\n",
    "        print(f\"Averaging {experiment_path.split('/')[-3:]} targets over {len(target_folders)} runs!\")\n",
    "    if len(attack_folders) != 1:\n",
    "        print(f\"Averaging {experiment_path.split('/')[-3:]} attacks over {len(attack_folders)} runs!\")\n",
    "        \n",
    "    experiment = experiment_df.iloc[0].to_dict()\n",
    "    experiment.update(experiment_df.mean().to_dict())\n",
    "    \n",
    "    return experiment"
   ]
  },
  {
   "cell_type": "code",
   "execution_count": 5,
   "metadata": {},
   "outputs": [],
   "source": [
    "def load_experiments_folder(path, attack_folder_include=None, verbose=False):\n",
    "    experiments = {}\n",
    "    \n",
    "    subfolders = [ f.name for f in os.scandir(path) if f.is_dir() ]\n",
    "    \n",
    "    for subfolder in subfolders:\n",
    "        if subfolder.startswith(\"target\") or subfolder.startswith(\"attack\"):\n",
    "            return load_experiment(path, attack_folder_include, verbose)\n",
    "            \n",
    "    for subfolder in subfolders:\n",
    "        if \"_\" not in subfolder:\n",
    "            experiments[subfolder] = load_experiments_folder(os.path.join(path, subfolder), attack_folder_include, verbose)\n",
    "    \n",
    "    return experiments"
   ]
  },
  {
   "cell_type": "code",
   "execution_count": 6,
   "metadata": {
    "scrolled": true
   },
   "outputs": [
    {
     "name": "stderr",
     "output_type": "stream",
     "text": [
      "/home/ubuntu/anaconda3/envs/tensorflow2_p36/lib/python3.6/site-packages/ipykernel_launcher.py:2: FutureWarning: pandas.io.json.json_normalize is deprecated, use pandas.json_normalize instead\n",
      "  \n"
     ]
    }
   ],
   "source": [
    "bestbuy_experiments_bow = load_experiments_folder('/mnt/efs/DPTextHierarchy/logs/bestbuy_ratio/BasicClf')"
   ]
  },
  {
   "cell_type": "markdown",
   "metadata": {},
   "source": [
    "### Combine dataframes"
   ]
  },
  {
   "cell_type": "code",
   "execution_count": 7,
   "metadata": {},
   "outputs": [],
   "source": [
    "def get_dataframe_for_model(model_dict, warn=True):\n",
    "    \n",
    "    dataframe_list = []\n",
    "    \n",
    "    for train_size in model_dict:\n",
    "        train_size_experiments_dict = model_dict[train_size]\n",
    "        dataframe_list.append(pd.DataFrame.from_dict(train_size_experiments_dict, orient='index'))\n",
    "    \n",
    "    # Concat relevant rows\n",
    "    dataset_df = pd.concat(dataframe_list, sort=False)\n",
    "\n",
    "    return dataset_df"
   ]
  },
  {
   "cell_type": "raw",
   "metadata": {},
   "source": [
    "bestbuy_experiments_bow"
   ]
  },
  {
   "cell_type": "markdown",
   "metadata": {},
   "source": [
    "# Experiment Loading"
   ]
  },
  {
   "cell_type": "markdown",
   "metadata": {},
   "source": [
    "#### BestBuy"
   ]
  },
  {
   "cell_type": "code",
   "execution_count": 8,
   "metadata": {
    "scrolled": false
   },
   "outputs": [
    {
     "name": "stderr",
     "output_type": "stream",
     "text": [
      "/home/ubuntu/anaconda3/envs/tensorflow2_p36/lib/python3.6/site-packages/ipykernel_launcher.py:2: FutureWarning: pandas.io.json.json_normalize is deprecated, use pandas.json_normalize instead\n",
      "  \n"
     ]
    }
   ],
   "source": [
    "bestbuy_experiments_bow = load_experiments_folder('/mnt/efs/DPTextHierarchy/logs/bestbuy_ratio/BasicClf')\n",
    "bestbuy_df_bow = get_dataframe_for_model(bestbuy_experiments_bow)"
   ]
  },
  {
   "cell_type": "code",
   "execution_count": 9,
   "metadata": {},
   "outputs": [
    {
     "name": "stderr",
     "output_type": "stream",
     "text": [
      "/home/ubuntu/anaconda3/envs/tensorflow2_p36/lib/python3.6/site-packages/ipykernel_launcher.py:2: FutureWarning: pandas.io.json.json_normalize is deprecated, use pandas.json_normalize instead\n",
      "  \n"
     ]
    }
   ],
   "source": [
    "bestbuy_experiments_bert = load_experiments_folder('/mnt/efs/DPTextHierarchy/logs/bestbuy_ratio/bert-base-uncased')\n",
    "bestbuy_df_bert = get_dataframe_for_model(bestbuy_experiments_bert)"
   ]
  },
  {
   "cell_type": "markdown",
   "metadata": {},
   "source": [
    "#### DBPedia"
   ]
  },
  {
   "cell_type": "code",
   "execution_count": 11,
   "metadata": {},
   "outputs": [],
   "source": [
    "def load_experiments_folder_three(path, attack_folder_include=None, verbose=False):\n",
    "    experiments = {}\n",
    "    \n",
    "    subfolders = [ f.name for f in os.scandir(path) if f.is_dir() ]\n",
    "    \n",
    "    for subfolder in subfolders:\n",
    "        if subfolder.startswith(\"target\") or subfolder.startswith(\"attack\"):\n",
    "            return load_experiment(path, attack_folder_include, verbose)\n",
    "            \n",
    "    for subfolder in subfolders:\n",
    "        if \"_\" not in subfolder:\n",
    "            if len(subfolder) == 1:\n",
    "                experiments[\"3\"] = load_experiments_folder_three(os.path.join(path, \"3\"), \"attack_20\", verbose)\n",
    "                experiments[\"2\"] = load_experiments_folder_three(os.path.join(path, \"3\"), \"attack_only_use_first_2\", verbose)\n",
    "                experiments[\"1\"] = load_experiments_folder_three(os.path.join(path, \"3\"), \"attack_only_use_first_output\", verbose)\n",
    "            else:\n",
    "                experiments[subfolder] = load_experiments_folder_three(os.path.join(path, subfolder), attack_folder_include, verbose)\n",
    "    \n",
    "    return experiments"
   ]
  },
  {
   "cell_type": "code",
   "execution_count": 12,
   "metadata": {},
   "outputs": [
    {
     "name": "stderr",
     "output_type": "stream",
     "text": [
      "/home/ubuntu/anaconda3/envs/tensorflow2_p36/lib/python3.6/site-packages/ipykernel_launcher.py:2: FutureWarning: pandas.io.json.json_normalize is deprecated, use pandas.json_normalize instead\n",
      "  \n"
     ]
    }
   ],
   "source": [
    "dbpedia_experiments = load_experiments_folder_three('/mnt/efs/DPTextHierarchy/logs/dbpedia_ratio/BasicClf')\n",
    "dbpedia_df = get_dataframe_for_model(dbpedia_experiments)"
   ]
  },
  {
   "cell_type": "code",
   "execution_count": 13,
   "metadata": {},
   "outputs": [],
   "source": [
    "dbpedia_df[\"index\"] = dbpedia_df.index\n",
    "dbpedia_df[\"target.parameters.levels\"] = dbpedia_df.apply(lambda x: (x[\"target.parameters.levels\"][:int(x[\"index\"])]), axis=1)"
   ]
  },
  {
   "cell_type": "markdown",
   "metadata": {},
   "source": [
    "### Reuters"
   ]
  },
  {
   "cell_type": "code",
   "execution_count": 14,
   "metadata": {},
   "outputs": [
    {
     "name": "stderr",
     "output_type": "stream",
     "text": [
      "/home/ubuntu/anaconda3/envs/tensorflow2_p36/lib/python3.6/site-packages/ipykernel_launcher.py:2: FutureWarning: pandas.io.json.json_normalize is deprecated, use pandas.json_normalize instead\n",
      "  \n"
     ]
    }
   ],
   "source": [
    "reuters_experiments = load_experiments_folder('/mnt/efs/DPTextHierarchy/logs/reuters_ratio/BasicClf')\n",
    "reuters_df = get_dataframe_for_model(reuters_experiments)"
   ]
  },
  {
   "cell_type": "markdown",
   "metadata": {},
   "source": [
    "# Graphs"
   ]
  },
  {
   "cell_type": "code",
   "execution_count": 15,
   "metadata": {},
   "outputs": [],
   "source": [
    "def compute_r_sqared(xdata, ydata, func, popt):\n",
    "    ss_tot = np.sum((ydata-np.mean(ydata))**2)\n",
    "    \n",
    "    residuals = ydata - func(xdata, *popt)\n",
    "    ss_res = np.sum(residuals**2)\n",
    "\n",
    "    r_squared = 1 - (ss_res / ss_tot)\n",
    "\n",
    "    return r_squared"
   ]
  },
  {
   "cell_type": "code",
   "execution_count": 16,
   "metadata": {},
   "outputs": [],
   "source": [
    "import matplotlib.ticker as plticker\n",
    "import matplotlib.ticker as mtick"
   ]
  },
  {
   "cell_type": "code",
   "execution_count": 17,
   "metadata": {},
   "outputs": [],
   "source": [
    "def records_levels_ratio_plot(model_df, y_metric = 'advantage'):\n",
    "    # Assert only one dataset\n",
    "    assert len(model_df['target.parameters.dataset'].unique()) == 1\n",
    "    # Assert model df\n",
    "    assert len(model_df['target.parameters.model_path'].unique()) == 1\n",
    "    \n",
    "    model_df['amount_of_levels'] = model_df['target.parameters.levels'].map(len)\n",
    "    model_df['records/levels-ratio'] = model_df['target.parameters.train_size'] / model_df['amount_of_levels']\n",
    "    \n",
    "    fig, ax = plt.subplots()\n",
    "    \n",
    "    def func(x, a, b, c):\n",
    "        return a / np.multiply(b, x) + c\n",
    "    \n",
    "    xdata = model_df['records/levels-ratio']\n",
    "    ydata = model_df[f'attacker.combined_metrics.{y_metric}']\n",
    "    \n",
    "    popt, pcov = curve_fit(func, xdata, ydata)\n",
    "    \n",
    "    r_squared = compute_r_sqared(xdata, ydata, func, popt)\n",
    "    \n",
    "    ax.plot(sorted(xdata), \n",
    "                func(sorted(model_df['records/levels-ratio']), *popt), \n",
    "                linestyle='--', \n",
    "                marker='None',\n",
    "                label=f'$R^2 = {r_squared:.2f}$')\n",
    "    \n",
    "    for amount_of_levels, marker in zip(sorted(model_df['amount_of_levels'].unique()), ['v', 'o', 'x']):\n",
    "        model_df_for_level = model_df[model_df['amount_of_levels'] == amount_of_levels]\n",
    "        ax.plot(model_df_for_level['records/levels-ratio'], \n",
    "                model_df_for_level[f'attacker.combined_metrics.{y_metric}'], \n",
    "                linestyle='None', \n",
    "                marker=marker,\n",
    "                label=f'{amount_of_levels} ' + (\"level\" if amount_of_levels == 1 else \"levels\"))\n",
    "        \n",
    "    loc = plticker.MultipleLocator(base=0.05) # this locator puts ticks at regular intervals\n",
    "    ax.yaxis.set_major_locator(loc)\n",
    "    \n",
    "    loc = plticker.FuncFormatter(lambda x, pos: (str(int(x/1e3)) + \"k\") if x > 0 else \"0\")\n",
    "    ax.xaxis.set_major_formatter(loc)\n",
    "        \n",
    "    plt.ylabel(y_metric)\n",
    "    plt.xlabel('records/levels-ratio')\n",
    "    \n",
    "    ax.legend()\n",
    "    \n",
    "    return fig\n",
    "    "
   ]
  },
  {
   "cell_type": "code",
   "execution_count": 18,
   "metadata": {},
   "outputs": [],
   "source": [
    "figures_to_save = {}"
   ]
  },
  {
   "cell_type": "markdown",
   "metadata": {},
   "source": [
    "#### BestBuy BoW (fasttext)"
   ]
  },
  {
   "cell_type": "code",
   "execution_count": 19,
   "metadata": {},
   "outputs": [
    {
     "data": {
      "image/png": "[encoded data removed]",
      "text/plain": [
       "<Figure size 432x288 with 1 Axes>"
      ]
     },
     "metadata": {
      "needs_background": "light"
     },
     "output_type": "display_data"
    }
   ],
   "source": [
    "figures_to_save[\"bestbuy_bow_ratio\"] = records_levels_ratio_plot(bestbuy_df_bow)"
   ]
  },
  {
   "cell_type": "markdown",
   "metadata": {},
   "source": [
    "Accuracy:"
   ]
  },
  {
   "cell_type": "code",
   "execution_count": 20,
   "metadata": {},
   "outputs": [
    {
     "data": {
      "image/png": "[encoded data removed]",
      "text/plain": [
       "<Figure size 432x288 with 1 Axes>"
      ]
     },
     "metadata": {
      "needs_background": "light"
     },
     "output_type": "display_data"
    }
   ],
   "source": [
    "_ = records_levels_ratio_plot(bestbuy_df_bow, 'accuracy')"
   ]
  },
  {
   "cell_type": "markdown",
   "metadata": {},
   "source": [
    "#### BestBuy BERT"
   ]
  },
  {
   "cell_type": "code",
   "execution_count": 21,
   "metadata": {},
   "outputs": [
    {
     "data": {
      "image/png": "[encoded data removed]",
      "text/plain": [
       "<Figure size 432x288 with 1 Axes>"
      ]
     },
     "metadata": {
      "needs_background": "light"
     },
     "output_type": "display_data"
    }
   ],
   "source": [
    "_ = records_levels_ratio_plot(bestbuy_df_bert)"
   ]
  },
  {
   "cell_type": "markdown",
   "metadata": {},
   "source": [
    "#### DBPedia"
   ]
  },
  {
   "cell_type": "code",
   "execution_count": 22,
   "metadata": {
    "scrolled": true
   },
   "outputs": [
    {
     "data": {
      "image/png": "[encoded data removed]",
      "text/plain": [
       "<Figure size 432x288 with 1 Axes>"
      ]
     },
     "metadata": {
      "needs_background": "light"
     },
     "output_type": "display_data"
    }
   ],
   "source": [
    "figures_to_save[\"dbpedia_bow_ratio\"] = records_levels_ratio_plot(dbpedia_df)"
   ]
  },
  {
   "cell_type": "markdown",
   "metadata": {},
   "source": [
    "#### Reuters"
   ]
  },
  {
   "cell_type": "code",
   "execution_count": 23,
   "metadata": {},
   "outputs": [
    {
     "data": {
      "image/png": "[encoded data removed]",
      "text/plain": [
       "<Figure size 432x288 with 1 Axes>"
      ]
     },
     "metadata": {
      "needs_background": "light"
     },
     "output_type": "display_data"
    }
   ],
   "source": [
    "figures_to_save[\"reuters_bow_ratio\"] = records_levels_ratio_plot(reuters_df)"
   ]
  },
  {
   "cell_type": "code",
   "execution_count": 24,
   "metadata": {},
   "outputs": [],
   "source": [
    "from IPython.core import display as ICD"
   ]
  },
  {
   "cell_type": "code",
   "execution_count": 25,
   "metadata": {},
   "outputs": [],
   "source": [
    "biggest_figure = figures_to_save[\"dbpedia_bow_ratio\"]\n",
    "bbox = biggest_figure.get_tightbbox(biggest_figure.canvas.get_renderer())\n",
    "\n",
    "for name, figure in figures_to_save.items():\n",
    "    #ICD.display(figure)\n",
    "    figure.savefig(f'{name}.pdf', bbox_inches=bbox)"
   ]
  }
 ],
 "metadata": {
  "kernelspec": {
   "display_name": "Python 3.6.6 64-bit ('tensorflow2_p36': conda)",
   "language": "python",
   "name": "python36664bittensorflow2p36condae5a53342b2e8430f9ecb9f6ef5247970"
  },
  "language_info": {
   "codemirror_mode": {
    "name": "ipython",
    "version": 3
   },
   "file_extension": ".py",
   "mimetype": "text/x-python",
   "name": "python",
   "nbconvert_exporter": "python",
   "pygments_lexer": "ipython3",
   "version": "3.6.6"
  }
 },
 "nbformat": 4,
 "nbformat_minor": 2
}
